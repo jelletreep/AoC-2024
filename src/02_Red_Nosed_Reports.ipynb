{
 "cells": [
  {
   "cell_type": "markdown",
   "id": "49f164cb-931d-4853-bc2a-05cf23acbd3f",
   "metadata": {},
   "source": [
    "# Part 1: Which reports are safe?\n",
    "\n",
    "The engineers are trying to figure out which reports are safe. The Red-Nosed reactor safety systems can only tolerate levels that are either gradually increasing or gradually decreasing. So, a report only counts as safe if both of the following are true:\n",
    "\n",
    "    The levels are either all increasing or all decreasing.\n",
    "    Any two adjacent levels differ by at least one and at most three.\n",
    "\n",
    "In the example above, the reports can be found safe or unsafe by checking those rules:\n",
    "\n",
    "    7 6 4 2 1: Safe because the levels are all decreasing by 1 or 2.\n",
    "    1 2 7 8 9: Unsafe because 2 7 is an increase of 5.\n",
    "    9 7 6 2 1: Unsafe because 6 2 is a decrease of 4.\n",
    "    1 3 2 4 5: Unsafe because 1 3 is increasing but 3 2 is decreasing.\n",
    "    8 6 4 4 1: Unsafe because 4 4 is neither an increase or a decrease.\n",
    "    1 3 6 7 9: Safe because the levels are all increasing by 1, 2, or 3.\n"
   ]
  },
  {
   "cell_type": "code",
   "execution_count": 14,
   "id": "b72ea79f-c50b-4a14-832c-56a275bd0b9c",
   "metadata": {},
   "outputs": [
    {
     "name": "stdout",
     "output_type": "stream",
     "text": [
      "269\n"
     ]
    }
   ],
   "source": [
    "def check_safety(diff):\n",
    "    true_or_false = (all([items < 0 for items in diff]) or \\\n",
    "                    all([items > 0 for items in diff])) and \\\n",
    "                    max(list(map(abs, diff))) < 4\n",
    "    return true_or_false\n",
    "\n",
    "def deltas(line):\n",
    "    return [b-a for a, b in zip(line[:-1], line[1:])]\n",
    "\n",
    "\n",
    "safe = []\n",
    "\n",
    "with open(\"../input-data/02_Red_Nosed_Reports.txt\") as file: \n",
    "    for line in file:\n",
    "        line = list(map(int, line.split()))\n",
    "        diff = deltas(line)\n",
    "        if check_safety(diff):\n",
    "            safe.append(1)\n",
    "\n",
    "print(sum(safe))\n"
   ]
  },
  {
   "cell_type": "markdown",
   "id": "b6535b98-0dfb-439a-b12c-cac22f424425",
   "metadata": {},
   "source": [
    "# Part 2\n",
    "\n",
    "The engineers are surprised by the low number of safe reports until they realize they forgot to tell you about the Problem Dampener.\n",
    "\n",
    "The Problem Dampener is a reactor-mounted module that lets the reactor safety systems tolerate a single bad level in what would otherwise be a safe report. It's like the bad level never happened!\n",
    "\n",
    "Now, the same rules apply as before, except if removing a single level from an unsafe report would make it safe, the report instead counts as safe.\n",
    "\n",
    "More of the above example's reports are now safe:\n",
    "\n",
    "    7 6 4 2 1: Safe without removing any level.\n",
    "    1 2 7 8 9: Unsafe regardless of which level is removed.\n",
    "    9 7 6 2 1: Unsafe regardless of which level is removed.\n",
    "    1 3 2 4 5: Safe by removing the second level, 3.\n",
    "    8 6 4 4 1: Safe by removing the third level, 4.\n",
    "    1 3 6 7 9: Safe without removing any level.\n",
    "\n",
    "Thanks to the Problem Dampener, 4 reports are actually safe!\n"
   ]
  },
  {
   "cell_type": "code",
   "execution_count": 15,
   "id": "b90dbc52-db9c-4787-9ef4-d14e31c1183b",
   "metadata": {},
   "outputs": [
    {
     "name": "stdout",
     "output_type": "stream",
     "text": [
      "337\n"
     ]
    }
   ],
   "source": [
    "safe = []\n",
    "\n",
    "with open(\"../input-data/02_Red_Nosed_Reports.txt\") as file: \n",
    "    for line in file:\n",
    "        line = list(map(int, line.split()))\n",
    "        diff = deltas(line)\n",
    "        \n",
    "        if check_safety(diff):                \n",
    "            safe.append(1)\n",
    "            continue\n",
    "\n",
    "        for id, item in enumerate(line):\n",
    "            line_damp = line[:id] + line[id+1:]\n",
    "            diff = deltas(line_damp)\n",
    "\n",
    "            if check_safety(diff):                \n",
    "                safe.append(1)\n",
    "                break\n",
    "\n",
    "print(sum(safe))"
   ]
  }
 ],
 "metadata": {
  "kernelspec": {
   "display_name": "Python 3 (ipykernel)",
   "language": "python",
   "name": "python3"
  },
  "language_info": {
   "codemirror_mode": {
    "name": "ipython",
    "version": 3
   },
   "file_extension": ".py",
   "mimetype": "text/x-python",
   "name": "python",
   "nbconvert_exporter": "python",
   "pygments_lexer": "ipython3",
   "version": "3.10.11"
  }
 },
 "nbformat": 4,
 "nbformat_minor": 5
}
