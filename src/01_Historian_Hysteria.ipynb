{
 "cells": [
  {
   "cell_type": "markdown",
   "id": "cdd4e87f-e630-49ff-87a8-dc26d1d4c060",
   "metadata": {},
   "source": [
    "# Part 1:\n",
    "\n",
    "Calculate element wise difference between left and right number and sum the differences"
   ]
  },
  {
   "cell_type": "code",
   "execution_count": 23,
   "id": "6a01c8ef-c42d-4f19-b4a2-1891b400aaaa",
   "metadata": {
    "scrolled": true
   },
   "outputs": [],
   "source": [
    "left = []\n",
    "right = []\n",
    "\n",
    "with open(\"../input-data/01_Historian_Hysteria.txt\") as file: \n",
    "    for line in file:\n",
    "        left.append(int(line.split()[0]))\n",
    "        right.append(int(line.split()[1]))\n",
    "\n",
    "left.sort(); right.sort()"
   ]
  },
  {
   "cell_type": "code",
   "execution_count": 26,
   "id": "d49b9b86-d2aa-4dd5-818e-e63f50c08ea3",
   "metadata": {},
   "outputs": [],
   "source": [
    "import numpy as np\n",
    "distance = sum(abs(np.array(left) - np.array(right)))\n",
    "print(distance)"
   ]
  },
  {
   "cell_type": "markdown",
   "id": "835bfb67-3bca-457c-bc34-662fa9fc0c25",
   "metadata": {},
   "source": [
    "# Part 2:\n",
    "\n",
    "Multiply left items with the number of occurences in the right list."
   ]
  },
  {
   "cell_type": "code",
   "execution_count": 28,
   "id": "610ee35f-b9c7-4697-8516-fc024c1cd709",
   "metadata": {},
   "outputs": [],
   "source": [
    "left_part2 = []\n",
    "right_part2 = []\n",
    "\n",
    "with open(\"../input-data/01_Historian_Hysteria.txt\") as file: \n",
    "    for line in file:\n",
    "        left_part2.append(int(line.split()[0]))\n",
    "        right_part2.append(int(line.split()[1]))"
   ]
  },
  {
   "cell_type": "code",
   "execution_count": 31,
   "id": "9d4e8068-845d-4e98-a4c7-7fce8f3981fe",
   "metadata": {},
   "outputs": [
    {
     "name": "stdout",
     "output_type": "stream",
     "text": [
      "27384707\n"
     ]
    }
   ],
   "source": [
    "distances = []\n",
    "\n",
    "for number in left_part2:\n",
    "    distances.append(number * right_part2.count(number))\n",
    "\n",
    "print(sum(distances))"
   ]
  }
 ],
 "metadata": {
  "kernelspec": {
   "display_name": "Python 3 (ipykernel)",
   "language": "python",
   "name": "python3"
  },
  "language_info": {
   "codemirror_mode": {
    "name": "ipython",
    "version": 3
   },
   "file_extension": ".py",
   "mimetype": "text/x-python",
   "name": "python",
   "nbconvert_exporter": "python",
   "pygments_lexer": "ipython3",
   "version": "3.10.11"
  }
 },
 "nbformat": 4,
 "nbformat_minor": 5
}
